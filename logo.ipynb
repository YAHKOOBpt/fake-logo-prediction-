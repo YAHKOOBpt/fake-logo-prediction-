{
 "cells": [
  {
   "cell_type": "code",
   "execution_count": null,
   "id": "eebce5a0",
   "metadata": {},
   "outputs": [],
   "source": [
    "# NumPy (import numpy as np):\n",
    "# ------         --------\n",
    "# NumPy is a powerful library for numerical operations in Python.\n",
    "# It provides support for large, multi-dimensional arrays and matrices, along with mathematical functions to operate on these arrays.\n",
    "\n",
    "# TensorFlow (import tensorflow as tf):\n",
    "# ------            ------\n",
    "# TensorFlow is an open-source machine learning framework developed by Google.\n",
    "# It is widely used for building and training deep learning models.\n",
    "\n",
    "# Keras (from keras import layers, Sequential, utils):\n",
    "# -------         ------------\n",
    "# Keras is a high-level neural networks API that runs on top of TensorFlow.\n",
    "# The code imports specific components like layers, Sequential model, and utilities from the Keras library.\n",
    "\n",
    "# os (import os):\n",
    "# -----   -------\n",
    "# The os module provides a way to interact with the operating system, allowing the script to perform operations like reading or writing files, manipulating paths, etc.\n",
    "\n",
    "# Matplotlib (import matplotlib.pyplot as plt):\n",
    "# ----------     -------------\n",
    "# Matplotlib is a popular plotting library for Python.\n",
    "# The code imports the pyplot module with the alias plt, which is commonly used for creating visualizations."
   ]
  },
  {
   "cell_type": "code",
   "execution_count": 1,
   "id": "7f91023d",
   "metadata": {},
   "outputs": [
    {
     "name": "stdout",
     "output_type": "stream",
     "text": [
      "WARNING:tensorflow:From C:\\Users\\hp\\anaconda3\\Lib\\site-packages\\keras\\src\\losses.py:2976: The name tf.losses.sparse_softmax_cross_entropy is deprecated. Please use tf.compat.v1.losses.sparse_softmax_cross_entropy instead.\n",
      "\n"
     ]
    }
   ],
   "source": [
    "import numpy as np\n",
    "import tensorflow as tf\n",
    "from keras import layers, Sequential, utils\n",
    "import os\n",
    "import matplotlib.pyplot as plt"
   ]
  },
  {
   "cell_type": "code",
   "execution_count": null,
   "id": "f84030e5",
   "metadata": {},
   "outputs": [],
   "source": [
    "# image_dataset_from_directory: This function is part of TensorFlow's Keras utilities and is used for creating a dataset of images from a directory. It automatically labels the images based on subdirectories.\n",
    "\n",
    "# Arguments:\n",
    "\n",
    "# \"Images\": This is the directory path where the images are located.\n",
    "\n",
    "# validation_split=0.2: This parameter specifies the fraction of the data to reserve for validation. In this case, 20% of the data will be used for validation, and the remaining 80% will be used for training.\n",
    "\n",
    "# subset=\"training\": This parameter indicates that the dataset being created is for training. Alternatively, you could set it to \"validation\" to create a dataset for validation.\n",
    "\n",
    "# seed=123: This is a seed for the random number generator, ensuring reproducibility. If you use the same seed, you should get the same split of training and validation data.\n",
    "\n",
    "# image_size=(70, 70): This parameter specifies the target size for the images. Images will be resized to the specified dimensions during loading.\n",
    "\n",
    "# batch_size=32: It defines the batch size for the dataset. The dataset will yield batches of 32 samples."
   ]
  },
  {
   "cell_type": "code",
   "execution_count": 2,
   "id": "5c8fc9a9",
   "metadata": {},
   "outputs": [
    {
     "name": "stdout",
     "output_type": "stream",
     "text": [
      "Found 825 files belonging to 2 classes.\n",
      "Using 660 files for training.\n"
     ]
    }
   ],
   "source": [
    "train_ds = tf.keras.utils.image_dataset_from_directory(\n",
    "  \"Images\",\n",
    "  validation_split=0.2,\n",
    "  subset=\"training\",\n",
    "  seed=123,\n",
    "  image_size=(70, 70),\n",
    "  batch_size=32)"
   ]
  },
  {
   "cell_type": "code",
   "execution_count": null,
   "id": "647a1022",
   "metadata": {},
   "outputs": [],
   "source": [
    "# creating a validation dataset instead of a training dataset using the image_dataset_from_directory function from TensorFlow's Keras utilities.\n",
    "\n",
    "# \"Images\": This is the directory path where the images are located.\n",
    "\n",
    "# validation_split=0.2: This parameter specifies the fraction of the data to reserve for validation. In this case, 20% of the data will be used for validation.\n",
    "\n",
    "# subset=\"validation\": This parameter indicates that the dataset being created is for validation. The function will select a subset of the data for validation based on the split specified.\n",
    "\n",
    "# seed=123: This is a seed for the random number generator, ensuring reproducibility. If you use the same seed, you should get the same split of training and validation data.\n",
    "\n",
    "# image_size=(70, 70): This parameter specifies the target size for the images. Images will be resized to the specified dimensions during loading.\n",
    "\n",
    "# batch_size=32: It defines the batch size for the dataset. The dataset will yield batches of 32 samples."
   ]
  },
  {
   "cell_type": "code",
   "execution_count": 3,
   "id": "ccbe03ed",
   "metadata": {},
   "outputs": [
    {
     "name": "stdout",
     "output_type": "stream",
     "text": [
      "Found 825 files belonging to 2 classes.\n",
      "Using 165 files for validation.\n"
     ]
    }
   ],
   "source": [
    "val_ds = utils.image_dataset_from_directory(\n",
    "  \"Images\",\n",
    "  validation_split=0.2,\n",
    "  subset=\"validation\",\n",
    "  seed=123,\n",
    "  image_size=(70, 70),\n",
    "  batch_size=32)"
   ]
  },
  {
   "cell_type": "code",
   "execution_count": null,
   "id": "0ee0315d",
   "metadata": {},
   "outputs": [],
   "source": [
    "# Using AUTOTUNE is beneficial because it allows TensorFlow to adapt the performance settings to the hardware and other conditions dynamically. This can lead to improved training speed and resource utilization.\n",
    "\n",
    "# In summary, tf.data.AUTOTUNE is a way to automatically optimize the performance of TensorFlow's input pipeline operations by dynamically adjusting parameters based on the execution environment."
   ]
  },
  {
   "cell_type": "code",
   "execution_count": 4,
   "id": "c0633ea7",
   "metadata": {},
   "outputs": [],
   "source": [
    "AUTOTUNE = tf.data.AUTOTUNE"
   ]
  },
  {
   "cell_type": "code",
   "execution_count": null,
   "id": "1dc287d3",
   "metadata": {},
   "outputs": [],
   "source": [
    "# train_ds.cache(): This line applies caching to the training dataset (train_ds). Caching stores the elements of the dataset in memory after they are loaded for the first epoch. This can significantly speed up subsequent epochs, especially if the dataset fits into memory.\n",
    "\n",
    "# train_ds.prefetch(buffer_size=AUTOTUNE): This line applies prefetching to the training dataset. Prefetching is a technique where the data loading pipeline fetches batches of data in the background while the model is still training on the current batch.\n",
    "# This helps to overlap the data loading and model training, reducing the overall training time.\n",
    "# The buffer_size parameter determines how many batches to prefetch. In this case, it is set to AUTOTUNE, which means TensorFlow will dynamically adjust the buffer size based on available resources."
   ]
  },
  {
   "cell_type": "code",
   "execution_count": 5,
   "id": "853e838b",
   "metadata": {},
   "outputs": [],
   "source": [
    "train_ds = train_ds.cache().prefetch(buffer_size=AUTOTUNE)\n",
    "val_ds = val_ds.cache().prefetch(buffer_size=AUTOTUNE)\n"
   ]
  },
  {
   "cell_type": "code",
   "execution_count": null,
   "id": "d905588f",
   "metadata": {},
   "outputs": [],
   "source": [
    "# This code defines a simple convolutional neural network (CNN) using the Keras Sequential API. Let's break down the layers and their meanings:\n",
    "# -----------\n",
    "# model = Sequential(): This creates a sequential model, which is a linear stack of layers. The layers are added in sequence, and the data flows sequentially through them.\n",
    "\n",
    "# model.add(layers.Rescaling(1./255)): This layer rescales the input values by a factor of 1/255. It is often used to normalize pixel values in the range [0, 1].\n",
    "\n",
    "# model.add(layers.Conv2D(70, (3, 3), activation='relu', input_shape=(70, 70, 3))): This is a 2D convolutional layer with 70 filters of size (3, 3), using the ReLU activation function. The input shape is specified as (70, 70, 3), indicating input images of size 70x70 pixels with three color channels (RGB).\n",
    "\n",
    "# model.add(layers.MaxPooling2D((2, 2))): This layer performs max pooling with a pool size of (2, 2), reducing the spatial dimensions of the feature map.\n",
    "\n",
    "# model.add(layers.Conv2D(140, (3, 3), activation='relu')): Another convolutional layer with 140 filters and ReLU activation.\n",
    "\n",
    "# model.add(layers.MaxPooling2D((2, 2))): Another max pooling layer.\n",
    "\n",
    "# model.add(layers.Conv2D(140, (3, 3), activation='relu')): Another convolutional layer with 140 filters and ReLU activation.\n",
    "\n",
    "# model.add(layers.Flatten()): This layer flattens the output of the previous layer into a 1D array, preparing it for input to a densely connected layer.\n",
    "\n",
    "# model.add(layers.Dense(70, activation='relu')): A densely connected layer with 70 neurons and ReLU activation.\n",
    "\n",
    "# model.add(layers.Dense(2)): The final densely connected layer with 2 neurons, representing the output classes. It does not use an activation function, making it suitable for a classification task where the model is trained to output raw scores/logits, and the final activation (e.g., softmax) is applied during training or inference."
   ]
  },
  {
   "cell_type": "code",
   "execution_count": 6,
   "id": "dcbd6163",
   "metadata": {},
   "outputs": [
    {
     "name": "stdout",
     "output_type": "stream",
     "text": [
      "WARNING:tensorflow:From C:\\Users\\hp\\anaconda3\\Lib\\site-packages\\keras\\src\\backend.py:873: The name tf.get_default_graph is deprecated. Please use tf.compat.v1.get_default_graph instead.\n",
      "\n",
      "WARNING:tensorflow:From C:\\Users\\hp\\anaconda3\\Lib\\site-packages\\keras\\src\\layers\\pooling\\max_pooling2d.py:161: The name tf.nn.max_pool is deprecated. Please use tf.nn.max_pool2d instead.\n",
      "\n"
     ]
    }
   ],
   "source": [
    "model = Sequential()\n",
    "model.add(layers.Rescaling(1./255))\n",
    "model.add(layers.Conv2D(70, (3, 3), activation='relu', input_shape=(70, 70, 3)))\n",
    "model.add(layers.MaxPooling2D((2, 2)))\n",
    "model.add(layers.Conv2D(140, (3, 3), activation='relu'))\n",
    "model.add(layers.MaxPooling2D((2, 2)))\n",
    "model.add(layers.Conv2D(140, (3, 3), activation='relu'))\n",
    "model.add(layers.Flatten())\n",
    "model.add(layers.Dense(70, activation='relu'))\n",
    "model.add(layers.Dense(2))"
   ]
  },
  {
   "cell_type": "code",
   "execution_count": null,
   "id": "c34b1577",
   "metadata": {},
   "outputs": [],
   "source": [
    "# The compile method in Keras is used to configure the model for training. It specifies the optimizer, loss function, and evaluation metrics that will be used during the training process. \n",
    "# Let's break down the provided compile statement:\n",
    "\n",
    "# optimizer='adam': This sets the optimizer for the model. In this case, it uses the Adam optimizer, which is a popular optimization algorithm for training neural networks. Adam adapts the learning rates for each parameter during training.\n",
    "\n",
    "# loss=tf.keras.losses.SparseCategoricalCrossentropy(from_logits=True): This specifies the loss function used during training. The chosen loss function is Sparse Categorical Crossentropy, which is commonly used for classification problems where the labels are integers (e.g., 0, 1, 2).\n",
    "# The from_logits=True argument indicates that the model will output raw logits (unnormalized scores) instead of probabilities, and the softmax activation will be applied later during training.\n",
    "\n",
    "# metrics=['accuracy']: This sets the evaluation metric(s) to be used during training and validation. In this case, the metric is accuracy, which is a common metric for classification problems. It measures the proportion of correctly classified samples."
   ]
  },
  {
   "cell_type": "code",
   "execution_count": 7,
   "id": "f42bd2d7",
   "metadata": {},
   "outputs": [
    {
     "name": "stdout",
     "output_type": "stream",
     "text": [
      "WARNING:tensorflow:From C:\\Users\\hp\\anaconda3\\Lib\\site-packages\\keras\\src\\optimizers\\__init__.py:309: The name tf.train.Optimizer is deprecated. Please use tf.compat.v1.train.Optimizer instead.\n",
      "\n"
     ]
    }
   ],
   "source": [
    "model.compile(optimizer='adam',\n",
    "              loss=tf.keras.losses.SparseCategoricalCrossentropy(from_logits=True),\n",
    "              metrics=['accuracy'])"
   ]
  },
  {
   "cell_type": "code",
   "execution_count": null,
   "id": "2779b8fe",
   "metadata": {},
   "outputs": [],
   "source": [
    "# checkpoint_path = \"training_1/cp.ckpt\": This line defines the file path for saving the checkpoint. In this case, the checkpoint file will be named cp.ckpt, and it will be saved in the directory training_1. The file extension .ckpt is often used for checkpoint files.\n",
    "\n",
    "# checkpoint_dir = os.path.dirname(checkpoint_path): This line extracts the directory path from the checkpoint_path. The os.path.dirname() function is used to get the directory portion of the path. In this case, checkpoint_dir will be the string \"training_1\"."
   ]
  },
  {
   "cell_type": "code",
   "execution_count": 8,
   "id": "6f196a0f",
   "metadata": {},
   "outputs": [],
   "source": [
    "checkpoint_path = \"training_1/cp.ckpt\"\n",
    "checkpoint_dir = os.path.dirname(checkpoint_path)\n"
   ]
  },
  {
   "cell_type": "code",
   "execution_count": null,
   "id": "238316dd",
   "metadata": {},
   "outputs": [],
   "source": [
    "# tf.keras.callbacks.ModelCheckpoint: This is a callback class provided by TensorFlow's Keras API. Callbacks are functions that can be applied at different stages of training (e.g., at the end of each epoch). ModelCheckpoint specifically saves the model's weights during training.\n",
    "\n",
    "# filepath=checkpoint_path: This parameter specifies the path where the model weights will be saved. In this case, it's set to the checkpoint_path variable, which is the file path defined earlier (\"training_1/cp.ckpt\").\n",
    "\n",
    "# save_weights_only=True: This parameter specifies that only the model weights should be saved, not the entire model. Setting it to True ensures that only the weights are stored, making it more space-efficient.\n",
    "\n",
    "# verbose=1: This parameter controls the verbosity during saving. A value of 1 means it will print a message when a checkpoint is saved."
   ]
  },
  {
   "cell_type": "code",
   "execution_count": 9,
   "id": "974a1fe0",
   "metadata": {},
   "outputs": [],
   "source": [
    "cp_callback = tf.keras.callbacks.ModelCheckpoint(filepath=checkpoint_path,\n",
    "                                                 save_weights_only=True,\n",
    "                                                 verbose=1)\n"
   ]
  },
  {
   "cell_type": "code",
   "execution_count": null,
   "id": "69bb999a",
   "metadata": {},
   "outputs": [],
   "source": [
    "# model.fit: This method is used to train the model. It takes training data (train_ds), specifies the number of epochs (30 in this case), and provides validation data (val_ds) for evaluating the model's performance on a separate dataset during training.\n",
    "\n",
    "# epochs=30: This parameter specifies the number of times the model will iterate over the entire training dataset. In this case, the model will be trained for 30 epochs.\n",
    "\n",
    "# validation_data=val_ds: This parameter provides the validation dataset (val_ds) to evaluate the model's performance on a separate set of data during training.\n",
    "\n",
    "# callbacks=[cp_callback]: This parameter allows you to pass a list of callbacks to be applied during training. In this case, the ModelCheckpoint callback (cp_callback) is included. The model's weights will be saved at the end of each epoch due to this callback.\n",
    "\n",
    "# history: The fit method returns a History object, which contains information about the training process. It typically includes training and validation loss values and any specified metrics over the epochs."
   ]
  },
  {
   "cell_type": "code",
   "execution_count": 10,
   "id": "603971c0",
   "metadata": {},
   "outputs": [
    {
     "name": "stdout",
     "output_type": "stream",
     "text": [
      "Epoch 1/30\n",
      "WARNING:tensorflow:From C:\\Users\\hp\\anaconda3\\Lib\\site-packages\\keras\\src\\utils\\tf_utils.py:492: The name tf.ragged.RaggedTensorValue is deprecated. Please use tf.compat.v1.ragged.RaggedTensorValue instead.\n",
      "\n",
      "WARNING:tensorflow:From C:\\Users\\hp\\anaconda3\\Lib\\site-packages\\keras\\src\\engine\\base_layer_utils.py:384: The name tf.executing_eagerly_outside_functions is deprecated. Please use tf.compat.v1.executing_eagerly_outside_functions instead.\n",
      "\n",
      "21/21 [==============================] - ETA: 0s - loss: 0.8097 - accuracy: 0.5970\n",
      "Epoch 1: saving model to training_1\\cp.ckpt\n",
      "21/21 [==============================] - 5s 163ms/step - loss: 0.8097 - accuracy: 0.5970 - val_loss: 0.5980 - val_accuracy: 0.7333\n",
      "Epoch 2/30\n",
      "21/21 [==============================] - ETA: 0s - loss: 0.5624 - accuracy: 0.7000\n",
      "Epoch 2: saving model to training_1\\cp.ckpt\n",
      "21/21 [==============================] - 3s 133ms/step - loss: 0.5624 - accuracy: 0.7000 - val_loss: 0.5181 - val_accuracy: 0.6727\n",
      "Epoch 3/30\n",
      "21/21 [==============================] - ETA: 0s - loss: 0.4699 - accuracy: 0.7576\n",
      "Epoch 3: saving model to training_1\\cp.ckpt\n",
      "21/21 [==============================] - 3s 137ms/step - loss: 0.4699 - accuracy: 0.7576 - val_loss: 0.4776 - val_accuracy: 0.7394\n",
      "Epoch 4/30\n",
      "21/21 [==============================] - ETA: 0s - loss: 0.3810 - accuracy: 0.8182\n",
      "Epoch 4: saving model to training_1\\cp.ckpt\n",
      "21/21 [==============================] - 3s 142ms/step - loss: 0.3810 - accuracy: 0.8182 - val_loss: 0.4212 - val_accuracy: 0.7939\n",
      "Epoch 5/30\n",
      "21/21 [==============================] - ETA: 0s - loss: 0.4019 - accuracy: 0.8106\n",
      "Epoch 5: saving model to training_1\\cp.ckpt\n",
      "21/21 [==============================] - 3s 141ms/step - loss: 0.4019 - accuracy: 0.8106 - val_loss: 0.4330 - val_accuracy: 0.8182\n",
      "Epoch 6/30\n",
      "21/21 [==============================] - ETA: 0s - loss: 0.2987 - accuracy: 0.8697\n",
      "Epoch 6: saving model to training_1\\cp.ckpt\n",
      "21/21 [==============================] - 3s 134ms/step - loss: 0.2987 - accuracy: 0.8697 - val_loss: 0.3828 - val_accuracy: 0.8364\n",
      "Epoch 7/30\n",
      "21/21 [==============================] - ETA: 0s - loss: 0.3176 - accuracy: 0.8576\n",
      "Epoch 7: saving model to training_1\\cp.ckpt\n",
      "21/21 [==============================] - 3s 132ms/step - loss: 0.3176 - accuracy: 0.8576 - val_loss: 0.4528 - val_accuracy: 0.8061\n",
      "Epoch 8/30\n",
      "21/21 [==============================] - ETA: 0s - loss: 0.2489 - accuracy: 0.8955\n",
      "Epoch 8: saving model to training_1\\cp.ckpt\n",
      "21/21 [==============================] - 3s 146ms/step - loss: 0.2489 - accuracy: 0.8955 - val_loss: 0.4177 - val_accuracy: 0.8242\n",
      "Epoch 9/30\n",
      "21/21 [==============================] - ETA: 0s - loss: 0.1937 - accuracy: 0.9258\n",
      "Epoch 9: saving model to training_1\\cp.ckpt\n",
      "21/21 [==============================] - 3s 148ms/step - loss: 0.1937 - accuracy: 0.9258 - val_loss: 0.3238 - val_accuracy: 0.8606\n",
      "Epoch 10/30\n",
      "21/21 [==============================] - ETA: 0s - loss: 0.1611 - accuracy: 0.9318\n",
      "Epoch 10: saving model to training_1\\cp.ckpt\n",
      "21/21 [==============================] - 3s 155ms/step - loss: 0.1611 - accuracy: 0.9318 - val_loss: 0.3769 - val_accuracy: 0.8606\n",
      "Epoch 11/30\n",
      "21/21 [==============================] - ETA: 0s - loss: 0.1552 - accuracy: 0.9439\n",
      "Epoch 11: saving model to training_1\\cp.ckpt\n",
      "21/21 [==============================] - 3s 144ms/step - loss: 0.1552 - accuracy: 0.9439 - val_loss: 0.3189 - val_accuracy: 0.8545\n",
      "Epoch 12/30\n",
      "21/21 [==============================] - ETA: 0s - loss: 0.1025 - accuracy: 0.9667\n",
      "Epoch 12: saving model to training_1\\cp.ckpt\n",
      "21/21 [==============================] - 3s 145ms/step - loss: 0.1025 - accuracy: 0.9667 - val_loss: 0.2898 - val_accuracy: 0.8970\n",
      "Epoch 13/30\n",
      "21/21 [==============================] - ETA: 0s - loss: 0.0941 - accuracy: 0.9667\n",
      "Epoch 13: saving model to training_1\\cp.ckpt\n",
      "21/21 [==============================] - 3s 164ms/step - loss: 0.0941 - accuracy: 0.9667 - val_loss: 0.2661 - val_accuracy: 0.9030\n",
      "Epoch 14/30\n",
      "21/21 [==============================] - ETA: 0s - loss: 0.0708 - accuracy: 0.9833\n",
      "Epoch 14: saving model to training_1\\cp.ckpt\n",
      "21/21 [==============================] - 3s 163ms/step - loss: 0.0708 - accuracy: 0.9833 - val_loss: 0.2757 - val_accuracy: 0.8970\n",
      "Epoch 15/30\n",
      "21/21 [==============================] - ETA: 0s - loss: 0.0635 - accuracy: 0.9758\n",
      "Epoch 15: saving model to training_1\\cp.ckpt\n",
      "21/21 [==============================] - 4s 188ms/step - loss: 0.0635 - accuracy: 0.9758 - val_loss: 0.2456 - val_accuracy: 0.9152\n",
      "Epoch 16/30\n",
      "21/21 [==============================] - ETA: 0s - loss: 0.1111 - accuracy: 0.9636\n",
      "Epoch 16: saving model to training_1\\cp.ckpt\n",
      "21/21 [==============================] - 5s 226ms/step - loss: 0.1111 - accuracy: 0.9636 - val_loss: 0.4357 - val_accuracy: 0.8424\n",
      "Epoch 17/30\n",
      "21/21 [==============================] - ETA: 0s - loss: 0.1252 - accuracy: 0.9561\n",
      "Epoch 17: saving model to training_1\\cp.ckpt\n",
      "21/21 [==============================] - 4s 202ms/step - loss: 0.1252 - accuracy: 0.9561 - val_loss: 0.3342 - val_accuracy: 0.8970\n",
      "Epoch 18/30\n",
      "21/21 [==============================] - ETA: 0s - loss: 0.0926 - accuracy: 0.9712\n",
      "Epoch 18: saving model to training_1\\cp.ckpt\n",
      "21/21 [==============================] - 5s 238ms/step - loss: 0.0926 - accuracy: 0.9712 - val_loss: 0.3983 - val_accuracy: 0.8545\n",
      "Epoch 19/30\n",
      "21/21 [==============================] - ETA: 0s - loss: 0.0772 - accuracy: 0.9758\n",
      "Epoch 19: saving model to training_1\\cp.ckpt\n",
      "21/21 [==============================] - 4s 212ms/step - loss: 0.0772 - accuracy: 0.9758 - val_loss: 0.4209 - val_accuracy: 0.8909\n",
      "Epoch 20/30\n",
      "21/21 [==============================] - ETA: 0s - loss: 0.1016 - accuracy: 0.9606\n",
      "Epoch 20: saving model to training_1\\cp.ckpt\n",
      "21/21 [==============================] - 4s 211ms/step - loss: 0.1016 - accuracy: 0.9606 - val_loss: 0.6936 - val_accuracy: 0.8303\n",
      "Epoch 21/30\n",
      "21/21 [==============================] - ETA: 0s - loss: 0.1149 - accuracy: 0.9591\n",
      "Epoch 21: saving model to training_1\\cp.ckpt\n",
      "21/21 [==============================] - 4s 202ms/step - loss: 0.1149 - accuracy: 0.9591 - val_loss: 0.3283 - val_accuracy: 0.9030\n",
      "Epoch 22/30\n",
      "21/21 [==============================] - ETA: 0s - loss: 0.1263 - accuracy: 0.9485\n",
      "Epoch 22: saving model to training_1\\cp.ckpt\n",
      "21/21 [==============================] - 4s 203ms/step - loss: 0.1263 - accuracy: 0.9485 - val_loss: 0.2313 - val_accuracy: 0.9212\n",
      "Epoch 23/30\n",
      "21/21 [==============================] - ETA: 0s - loss: 0.1333 - accuracy: 0.9424\n",
      "Epoch 23: saving model to training_1\\cp.ckpt\n",
      "21/21 [==============================] - 4s 197ms/step - loss: 0.1333 - accuracy: 0.9424 - val_loss: 0.2611 - val_accuracy: 0.8970\n",
      "Epoch 24/30\n",
      "21/21 [==============================] - ETA: 0s - loss: 0.1059 - accuracy: 0.9636\n",
      "Epoch 24: saving model to training_1\\cp.ckpt\n",
      "21/21 [==============================] - 5s 220ms/step - loss: 0.1059 - accuracy: 0.9636 - val_loss: 0.2372 - val_accuracy: 0.8909\n",
      "Epoch 25/30\n",
      "21/21 [==============================] - ETA: 0s - loss: 0.1333 - accuracy: 0.9515\n",
      "Epoch 25: saving model to training_1\\cp.ckpt\n",
      "21/21 [==============================] - 4s 208ms/step - loss: 0.1333 - accuracy: 0.9515 - val_loss: 0.1653 - val_accuracy: 0.9212\n",
      "Epoch 26/30\n",
      "21/21 [==============================] - ETA: 0s - loss: 0.0702 - accuracy: 0.9773\n",
      "Epoch 26: saving model to training_1\\cp.ckpt\n",
      "21/21 [==============================] - 4s 202ms/step - loss: 0.0702 - accuracy: 0.9773 - val_loss: 0.1663 - val_accuracy: 0.9212\n",
      "Epoch 27/30\n",
      "21/21 [==============================] - ETA: 0s - loss: 0.0474 - accuracy: 0.9848\n",
      "Epoch 27: saving model to training_1\\cp.ckpt\n",
      "21/21 [==============================] - 4s 188ms/step - loss: 0.0474 - accuracy: 0.9848 - val_loss: 0.3424 - val_accuracy: 0.9152\n",
      "Epoch 28/30\n",
      "21/21 [==============================] - ETA: 0s - loss: 0.0469 - accuracy: 0.9879\n",
      "Epoch 28: saving model to training_1\\cp.ckpt\n",
      "21/21 [==============================] - 4s 188ms/step - loss: 0.0469 - accuracy: 0.9879 - val_loss: 0.2425 - val_accuracy: 0.9212\n",
      "Epoch 29/30\n",
      "21/21 [==============================] - ETA: 0s - loss: 0.0290 - accuracy: 0.9879\n",
      "Epoch 29: saving model to training_1\\cp.ckpt\n",
      "21/21 [==============================] - 4s 194ms/step - loss: 0.0290 - accuracy: 0.9879 - val_loss: 0.3501 - val_accuracy: 0.9212\n"
     ]
    },
    {
     "name": "stdout",
     "output_type": "stream",
     "text": [
      "Epoch 30/30\n",
      "21/21 [==============================] - ETA: 0s - loss: 0.0262 - accuracy: 0.9909\n",
      "Epoch 30: saving model to training_1\\cp.ckpt\n",
      "21/21 [==============================] - 4s 209ms/step - loss: 0.0262 - accuracy: 0.9909 - val_loss: 0.4963 - val_accuracy: 0.9030\n"
     ]
    }
   ],
   "source": [
    "history = model.fit(train_ds, epochs=30, \n",
    "                    validation_data=val_ds,callbacks=[cp_callback])\n"
   ]
  },
  {
   "cell_type": "code",
   "execution_count": null,
   "id": "c63e3356",
   "metadata": {},
   "outputs": [],
   "source": [
    "# plt.plot(history.history['accuracy'], label='accuracy'): This line plots the training accuracy over epochs. It uses the training history (history) obtained from the fit method and extracts the accuracy values for each epoch.\n",
    "\n",
    "# plt.plot(history.history['val_accuracy'], label='val_accuracy'): This line plots the validation accuracy over epochs. Similar to the training accuracy, it extracts the validation accuracy values from the training history.\n",
    "\n",
    "# plt.xlabel('Epoch'): Adds a label to the x-axis indicating the number of training epochs.\n",
    "\n",
    "# plt.ylabel('Accuracy'): Adds a label to the y-axis indicating the accuracy.\n",
    "\n",
    "# plt.ylim([0.5, 1]): Sets the y-axis limits to be between 0.5 and 1, providing a specific range for better visualization.\n",
    "\n",
    "# plt.legend(loc='lower right'): Adds a legend to the plot indicating which line corresponds to training accuracy and which one corresponds to validation accuracy. The legend is placed in the lower right corner of the plot.\n",
    "\n",
    "# plt.show(): Displays the plot.\n",
    "\n",
    "# plt.savefig(\"model_accuracy.png\"): Saves the plot as an image file named \"model_accuracy.png\". This line should come after plt.show() as savefig saves the current figure, and show would reset it."
   ]
  },
  {
   "cell_type": "code",
   "execution_count": 11,
   "id": "74c1dca4",
   "metadata": {},
   "outputs": [
    {
     "data": {
      "image/png": "[encoded data removed]",
      "text/plain": [
       "<Figure size 640x480 with 1 Axes>"
      ]
     },
     "metadata": {},
     "output_type": "display_data"
    },
    {
     "data": {
      "text/plain": [
       "<Figure size 640x480 with 0 Axes>"
      ]
     },
     "metadata": {},
     "output_type": "display_data"
    }
   ],
   "source": [
    "plt.plot(history.history['accuracy'], label='accuracy')\n",
    "plt.plot(history.history['val_accuracy'], label = 'val_accuracy')\n",
    "plt.xlabel('Epoch')\n",
    "plt.ylabel('Accuracy')\n",
    "plt.ylim([0.5, 1])\n",
    "plt.legend(loc='lower right')\n",
    "plt.show()\n",
    "plt.savefig(\"model_accuracy.png\")"
   ]
  },
  {
   "cell_type": "code",
   "execution_count": 12,
   "id": "5528c3b4",
   "metadata": {},
   "outputs": [
    {
     "name": "stdout",
     "output_type": "stream",
     "text": [
      "6/6 - 0s - loss: 0.4963 - accuracy: 0.9030 - 193ms/epoch - 32ms/step\n",
      "0.903030276298523\n"
     ]
    }
   ],
   "source": [
    "\n",
    "test_loss, test_acc = model.evaluate(val_ds, verbose=2)\n",
    "print(test_acc)"
   ]
  },
  {
   "cell_type": "code",
   "execution_count": 13,
   "id": "4539bc7f",
   "metadata": {},
   "outputs": [
    {
     "name": "stderr",
     "output_type": "stream",
     "text": [
      "C:\\Users\\hp\\anaconda3\\Lib\\site-packages\\keras\\src\\engine\\training.py:3103: UserWarning: You are saving your model as an HDF5 file via `model.save()`. This file format is considered legacy. We recommend using instead the native Keras format, e.g. `model.save('my_model.keras')`.\n",
      "  saving_api.save_model(\n"
     ]
    }
   ],
   "source": [
    "model.save(\"model.h5\")"
   ]
  },
  {
   "cell_type": "code",
   "execution_count": null,
   "id": "c49c3b5e",
   "metadata": {},
   "outputs": [],
   "source": []
  }
 ],
 "metadata": {
  "kernelspec": {
   "display_name": "Python 3 (ipykernel)",
   "language": "python",
   "name": "python3"
  },
  "language_info": {
   "codemirror_mode": {
    "name": "ipython",
    "version": 3
   },
   "file_extension": ".py",
   "mimetype": "text/x-python",
   "name": "python",
   "nbconvert_exporter": "python",
   "pygments_lexer": "ipython3",
   "version": "3.11.5"
  }
 },
 "nbformat": 4,
 "nbformat_minor": 5
}
